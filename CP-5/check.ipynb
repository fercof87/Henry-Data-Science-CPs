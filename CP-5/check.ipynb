{
 "cells": [
  {
   "cell_type": "code",
   "execution_count": 284,
   "metadata": {},
   "outputs": [],
   "source": [
    "import pandas as pd\n",
    "import numpy as np"
   ]
  },
  {
   "cell_type": "code",
   "execution_count": 285,
   "metadata": {},
   "outputs": [],
   "source": [
    "def Ret_Pregunta01():\n",
    "    '''\n",
    "    Debes utilizar Pandas para ingestar en un objeto Dataframe el contenido del archivo provisto\n",
    "    \"Fuentes_Consumo_Energia.csv\".\n",
    "    Esta función debe informar la cantidad de registros cuya entidad sean Colombia o México retornando ese valor en un dato\n",
    "    tupla (Colombia, México).\n",
    "    Pista averiguar la funcion Shape\n",
    "    '''\n",
    "    #Tu código aca:\n",
    "\n",
    "    fuentes = pd.read_csv(\"datasets/Fuentes_Consumo_Energia.csv\")\n",
    "    \n",
    "    colombia= fuentes[fuentes['Entity'] == 'Colombia'].shape #Traigo las filas y columnas donde entity == Colombia\n",
    "    mexico= fuentes[fuentes['Entity'] == 'Mexico'].shape #Traigo las filas y columnas donde entity == Mexico\n",
    "\n",
    "    return (colombia[0],mexico[0]) #Con el [0] traigo las filas totales"
   ]
  },
  {
   "cell_type": "code",
   "execution_count": 286,
   "metadata": {},
   "outputs": [
    {
     "data": {
      "text/plain": [
       "(55, 55)"
      ]
     },
     "execution_count": 286,
     "metadata": {},
     "output_type": "execute_result"
    }
   ],
   "source": [
    "Ret_Pregunta01()"
   ]
  },
  {
   "cell_type": "code",
   "execution_count": 289,
   "metadata": {},
   "outputs": [],
   "source": [
    "def Ret_Pregunta02():\n",
    "    '''\n",
    "    Debes utilizar Pandas para ingestar en un objeto Dataframe el contenido del archivo provisto\n",
    "    \"Fuentes_Consumo_Energia.csv\".\n",
    "    Esta función debe eliminar las columnas 'Code' y 'Entity' y luego informar la cantidad de columnas\n",
    "    retornando ese valor en un dato de tipo entero.\n",
    "    '''\n",
    "    #Tu código aca:\n",
    "\n",
    "    fuentes = pd.read_csv(\"./datasets/Fuentes_Consumo_Energia.csv\")\n",
    "\n",
    "    fuentes.drop([\"Code\"], axis=\"columns\", inplace= True) #Borro columna Code\n",
    "    fuentes.drop([\"Entity\"], axis=\"columns\", inplace= True) #Borro columna Entity\n",
    "    cantidad_columnas = fuentes.shape \n",
    "    #print(cantidad_columnas) #Veo la cantidad de columnas y filas totales\n",
    "    return cantidad_columnas[1] "
   ]
  },
  {
   "cell_type": "code",
   "execution_count": 290,
   "metadata": {},
   "outputs": [
    {
     "name": "stdout",
     "output_type": "stream",
     "text": [
      "(5190, 9)\n"
     ]
    },
    {
     "data": {
      "text/plain": [
       "9"
      ]
     },
     "execution_count": 290,
     "metadata": {},
     "output_type": "execute_result"
    }
   ],
   "source": [
    "Ret_Pregunta02()"
   ]
  },
  {
   "cell_type": "code",
   "execution_count": null,
   "metadata": {},
   "outputs": [],
   "source": [
    "def Ret_Pregunta03():\n",
    "    '''\n",
    "    Debes utilizar Pandas para ingestar en un objeto Dataframe el contenido del archivo provisto\n",
    "    \"Fuentes_Consumo_Energia.csv\".\n",
    "    Esta función debe informar la cantidad de registros de la columna Year sin tener en cuenta aquellos con valores faltantes\n",
    "    retornando ese valor en un dato de tipo entero.\n",
    "    '''\n",
    "    fuentes = pd.read_csv(\"./datasets/Fuentes_Consumo_Energia.csv\")\n",
    "    #print(fuentes['Year'].dropna().shape) #A ver cuantas columnas y filas hay\n",
    "\n",
    "    return fuentes['Year'].dropna().shape[0] #Traigo las filas de la columna year sin sus NaN"
   ]
  },
  {
   "cell_type": "code",
   "execution_count": null,
   "metadata": {},
   "outputs": [
    {
     "name": "stdout",
     "output_type": "stream",
     "text": [
      "(5190,)\n"
     ]
    },
    {
     "data": {
      "text/plain": [
       "5190"
      ]
     },
     "execution_count": 283,
     "metadata": {},
     "output_type": "execute_result"
    }
   ],
   "source": [
    "Ret_Pregunta03()"
   ]
  },
  {
   "cell_type": "code",
   "execution_count": null,
   "metadata": {},
   "outputs": [],
   "source": [
    "def Ret_Pregunta04():\n",
    "    '''\n",
    "    Debes utilizar Pandas para ingestar en un objeto Dataframe el contenido del archivo provisto\n",
    "    \"Fuentes_Consumo_Energia.csv\".\n",
    "    El ExaJulio es una unidad diferentes al TWh, es decir, no tiene sentido sumarlos o\n",
    "    buscar proporciones entre ellos, la fórmula de conversión es:\n",
    "    277.778 Teravatios/Hora (TWh) = 1 Exajulio\n",
    "    Los campos terminados en \"_EJ\" corresponden a mediciones en Exajulios,\n",
    "    y los terminados en \"_TWh\" corresponden a Teravatios/Hora.\n",
    "    La consigna es crear un nuevo campo, que se denomine \"Consumo_Total\"\n",
    "    y que guarde la sumatoria de todos los consumos expresados en Teravatios/Hora\n",
    "    (convirtiendo a esta medida los que están en Exajulios)\n",
    "    Esta función debe informar el consumo total para la entidad 'World' y año '2019',\n",
    "    redondeado a 2 decimales, retornando ese valor en un dato de tipo float.\n",
    "    '''\n",
    "    #Tu código aca:\n",
    "    fuentes = pd.read_csv(\"./datasets/Fuentes_Consumo_Energia.csv\")\n",
    "\n",
    "    fuentes['Consumo_Total'] = (fuentes[\"Coal_Consumption_EJ\"] *277.778 +  fuentes[\"Gas_Consumption_EJ\"] *277.778 + fuentes[\"Geo_Biomass_Other_TWh\"] + fuentes[\"Hydro_Generation_TWh\"] + fuentes[\"Nuclear_Generation_TWh\"] + fuentes[\"Solar_Generation_TWh\"] + fuentes[\"Wind_Generation_TWh\"] + fuentes[\"Oil_Consumption_EJ\"] *277.778)\n",
    "    #print(fuentes[(fuentes[\"Entity\"] == 'World') & (fuentes[\"Year\"] == 2019)]['Consumo_Total'].values) #A ver que trae todo esto\n",
    "\n",
    "    return round(float(fuentes[(fuentes[\"Entity\"] == 'World') & (fuentes[\"Year\"] == 2019)]['Consumo_Total'].values),2)"
   ]
  },
  {
   "cell_type": "code",
   "execution_count": null,
   "metadata": {},
   "outputs": [
    {
     "name": "stdout",
     "output_type": "stream",
     "text": [
      "[146585.30124011]\n"
     ]
    },
    {
     "data": {
      "text/plain": [
       "146585.3"
      ]
     },
     "execution_count": 268,
     "metadata": {},
     "output_type": "execute_result"
    }
   ],
   "source": [
    "Ret_Pregunta04()"
   ]
  },
  {
   "cell_type": "code",
   "execution_count": null,
   "metadata": {},
   "outputs": [],
   "source": [
    "def Ret_Pregunta05():\n",
    "    '''\n",
    "    Debes utilizar Pandas para ingestar en un objeto Dataframe el contenido del archivo provisto\n",
    "    \"Fuentes_Consumo_Energia.csv\".\n",
    "    Esta función debe informar el año de mayor generación de energía hídrica (Hydro_Generation_TWh)\n",
    "    para la entidad 'Europe' retornando ese valor en un dato de tipo entero.\n",
    "    '''\n",
    "    #Tu código aca:\n",
    "    fuentes = pd.read_csv(\"./datasets/Fuentes_Consumo_Energia.csv\")\n",
    "\n",
    "    fuentes = fuentes[fuentes[\"Entity\"] == \"Europe\"]\n",
    "\n",
    "    indice = fuentes[\"Hydro_Generation_TWh\"].idxmax() #al calcular cual es el mayor le esta dando su indice que usara para buscarlo\n",
    "\n",
    "    return fuentes[\"Year\"][indice]"
   ]
  },
  {
   "cell_type": "code",
   "execution_count": null,
   "metadata": {},
   "outputs": [
    {
     "data": {
      "text/plain": [
       "2013"
      ]
     },
     "execution_count": 270,
     "metadata": {},
     "output_type": "execute_result"
    }
   ],
   "source": [
    "Ret_Pregunta05()"
   ]
  },
  {
   "cell_type": "code",
   "execution_count": null,
   "metadata": {},
   "outputs": [],
   "source": [
    "def Ret_Pregunta06(m1, m2, m3):\n",
    "    '''\n",
    "    Esta función recibe tres array de Numpy de 2 dimensiones cada uno, y devuelve el valor booleano\n",
    "    True si es posible realizar una multiplicación entre las tres matrices (n1 x n2 x n3),\n",
    "    y el valor booleano False si no lo es\n",
    "    Ej:\n",
    "        n1 = np.array([[0,0,0],[1,1,1],[2,2,2]])\n",
    "        n2 = np.array([[3,3],[4,4],[5,5]])\n",
    "        n3 = np.array([1,1],[2,2])\n",
    "        print(Ret_Pregunta06(n1,n2,n3))\n",
    "            True            -> Valor devuelto por la función en este ejemplo\n",
    "        print(Ret_Pregunta06(n2,n1,n3))\n",
    "            False            -> Valor devuelto por la función en este ejemplo\n",
    "    '''\n",
    "    #Tu código aca:\n",
    "\n",
    "    if (m1.shape[1] == m2.shape[0]): #Columna de m1 == fila de m2\n",
    "        if (np.dot(m1,m2).shape[1]== m3.shape[0]): #Si se pueden multiplicar --> columna de mult == fila de m3\n",
    "            return True\n",
    "\n",
    "    return False"
   ]
  },
  {
   "cell_type": "code",
   "execution_count": null,
   "metadata": {},
   "outputs": [
    {
     "data": {
      "text/plain": [
       "True"
      ]
     },
     "execution_count": 272,
     "metadata": {},
     "output_type": "execute_result"
    }
   ],
   "source": [
    "n1 = np.array([[0,0,0],[1,1,1],[2,2,2],[3,3,3],[4,4,4],[5,5,5]])\n",
    "n2 = np.array([[6,7],[8,6],[7,8]])\n",
    "n3 = np.array([[9,9],[10,10]])\n",
    "Ret_Pregunta06(n1, n2, n3)"
   ]
  },
  {
   "cell_type": "code",
   "execution_count": null,
   "metadata": {},
   "outputs": [],
   "source": [
    "def Ret_Pregunta07():\n",
    "    '''\n",
    "    Debes utilizar Pandas para ingestar en un objeto Dataframe el contenido del archivo provisto\n",
    "    \"Fuentes_Consumo_Energia.csv\".\n",
    "    Esta función debe informar cuál de la siguiente lista de países tuvo mayor generacíon de\n",
    "    energía hìdrica (Hydro_Generation_TWh) en el año 2019:\n",
    "        * Argentina\n",
    "        * Brazil\n",
    "        * Chile\n",
    "        * Colombia\n",
    "        * Ecuador\n",
    "        * Mexico\n",
    "        * Peru\n",
    "    Debe retornar el valor en un dato de tipo string.\n",
    "    '''\n",
    "    #Tu código aca:\n",
    "    fuentes = pd.read_csv(\"./datasets/Fuentes_Consumo_Energia.csv\")\n",
    "\n",
    "    paises = [\"Argentina\",\"Brazil\",\"Chile\",\"Colombia\",\"Ecuador\",\"Mexico\",\"Peru\"]\n",
    "\n",
    "    fuentes = fuentes[(fuentes[\"Entity\"].isin(paises)) & (fuentes[\"Year\"] == 2019)] #filtro por la lista de paises y año 2019\n",
    "    indice = fuentes[\"Hydro_Generation_TWh\"].idxmax() #el mayor que cumpla con el filtro anterior\n",
    "    print(indice)\n",
    "\n",
    "    return  fuentes[\"Entity\"][indice]"
   ]
  },
  {
   "cell_type": "code",
   "execution_count": null,
   "metadata": {},
   "outputs": [
    {
     "name": "stdout",
     "output_type": "stream",
     "text": [
      "564\n"
     ]
    },
    {
     "data": {
      "text/plain": [
       "'Brazil'"
      ]
     },
     "execution_count": 274,
     "metadata": {},
     "output_type": "execute_result"
    }
   ],
   "source": [
    "Ret_Pregunta07()"
   ]
  },
  {
   "cell_type": "code",
   "execution_count": null,
   "metadata": {},
   "outputs": [],
   "source": [
    "def Ret_Pregunta08():\n",
    "    '''\n",
    "    Debes utilizar Pandas para ingestar en un objeto Dataframe el contenido del archivo provisto\n",
    "    \"Fuentes_Consumo_Energia.csv\".\n",
    "    Esta función debe informar la cantidad de entidades diferentes que están presentes en el dataset\n",
    "    retornando ese valor en un dato de tipo entero.\n",
    "    '''\n",
    "    #Tu código aca:\n",
    "    df = pd.read_csv(\"./datasets/Fuentes_Consumo_Energia.csv\")\n",
    "\n",
    "    return df[\"Entity\"].nunique() #valores unicos de la columna entity"
   ]
  },
  {
   "cell_type": "code",
   "execution_count": null,
   "metadata": {},
   "outputs": [
    {
     "data": {
      "text/plain": [
       "100"
      ]
     },
     "execution_count": 276,
     "metadata": {},
     "output_type": "execute_result"
    }
   ],
   "source": [
    "Ret_Pregunta08()"
   ]
  },
  {
   "cell_type": "code",
   "execution_count": null,
   "metadata": {},
   "outputs": [],
   "source": [
    "def Ret_Pregunta09():\n",
    "    '''\n",
    "    Debes utilizar Pandas para ingestar en un objeto Dataframe el contenido del archivo provisto\n",
    "    \"datasets/Tabla1_ejercicio.csv\" y \"datasets/Tabla2_ejercicio.csv\".\n",
    "    Esta función debe informar: score_promedio_femenino y score_promedio_masculino en formato tupla\n",
    "    '''\n",
    "    #Tu código aca:\n",
    "    \n",
    "    tabla1 = pd.read_csv(\"./datasets/Tabla1_ejercicio.csv\", sep=';')\n",
    "    tabla2 = pd.read_csv('./datasets/Tabla2_ejercicio.csv', sep=';')\n",
    "    tablas_unidas = pd.merge(tabla1, tabla2,on=\"pers_id\").drop_duplicates() #Con el on busco la tabla por la que se unira y borro dup\n",
    "    \n",
    "    score_promedio_femenino = round(tablas_unidas[tablas_unidas[\"sexo\"] ==\"F\"][\"score\"].mean(),2)\n",
    "    score_promedio_masculino = round(tablas_unidas[tablas_unidas[\"sexo\"] ==\"M\"][\"score\"].mean(),2)\n",
    "    tupla = (score_promedio_femenino, score_promedio_masculino)\n",
    "    return tupla"
   ]
  },
  {
   "cell_type": "code",
   "execution_count": null,
   "metadata": {},
   "outputs": [
    {
     "data": {
      "text/html": [
       "<div>\n",
       "<style scoped>\n",
       "    .dataframe tbody tr th:only-of-type {\n",
       "        vertical-align: middle;\n",
       "    }\n",
       "\n",
       "    .dataframe tbody tr th {\n",
       "        vertical-align: top;\n",
       "    }\n",
       "\n",
       "    .dataframe thead th {\n",
       "        text-align: right;\n",
       "    }\n",
       "</style>\n",
       "<table border=\"1\" class=\"dataframe\">\n",
       "  <thead>\n",
       "    <tr style=\"text-align: right;\">\n",
       "      <th></th>\n",
       "      <th>pers_id</th>\n",
       "      <th>sexo</th>\n",
       "      <th>edad</th>\n",
       "      <th>ingreso</th>\n",
       "      <th>situacion_lab</th>\n",
       "      <th>periodo</th>\n",
       "      <th>score</th>\n",
       "    </tr>\n",
       "  </thead>\n",
       "  <tbody>\n",
       "    <tr>\n",
       "      <th>0</th>\n",
       "      <td>71906556521</td>\n",
       "      <td>F</td>\n",
       "      <td>47</td>\n",
       "      <td>35926.28125</td>\n",
       "      <td>Sin_situacion_declarada</td>\n",
       "      <td>201906</td>\n",
       "      <td>919</td>\n",
       "    </tr>\n",
       "    <tr>\n",
       "      <th>2</th>\n",
       "      <td>71906556521</td>\n",
       "      <td>F</td>\n",
       "      <td>47</td>\n",
       "      <td>35926.28125</td>\n",
       "      <td>Sin_situacion_declarada</td>\n",
       "      <td>201909</td>\n",
       "      <td>738</td>\n",
       "    </tr>\n",
       "    <tr>\n",
       "      <th>3</th>\n",
       "      <td>71906556521</td>\n",
       "      <td>F</td>\n",
       "      <td>47</td>\n",
       "      <td>35926.28125</td>\n",
       "      <td>Sin_situacion_declarada</td>\n",
       "      <td>201909</td>\n",
       "      <td>919</td>\n",
       "    </tr>\n",
       "    <tr>\n",
       "      <th>4</th>\n",
       "      <td>71906556521</td>\n",
       "      <td>F</td>\n",
       "      <td>47</td>\n",
       "      <td>35926.28125</td>\n",
       "      <td>Sin_situacion_declarada</td>\n",
       "      <td>201912</td>\n",
       "      <td>919</td>\n",
       "    </tr>\n",
       "    <tr>\n",
       "      <th>12</th>\n",
       "      <td>73861260912</td>\n",
       "      <td>F</td>\n",
       "      <td>41</td>\n",
       "      <td>16231.12207</td>\n",
       "      <td>Sin_situacion_declarada</td>\n",
       "      <td>201906</td>\n",
       "      <td>557</td>\n",
       "    </tr>\n",
       "    <tr>\n",
       "      <th>...</th>\n",
       "      <td>...</td>\n",
       "      <td>...</td>\n",
       "      <td>...</td>\n",
       "      <td>...</td>\n",
       "      <td>...</td>\n",
       "      <td>...</td>\n",
       "      <td>...</td>\n",
       "    </tr>\n",
       "    <tr>\n",
       "      <th>15871</th>\n",
       "      <td>57646643429</td>\n",
       "      <td>M</td>\n",
       "      <td>33</td>\n",
       "      <td>37955.50781</td>\n",
       "      <td>Relacion_dependencia</td>\n",
       "      <td>201909</td>\n",
       "      <td>683</td>\n",
       "    </tr>\n",
       "    <tr>\n",
       "      <th>15872</th>\n",
       "      <td>57646643429</td>\n",
       "      <td>M</td>\n",
       "      <td>33</td>\n",
       "      <td>37955.50781</td>\n",
       "      <td>Relacion_dependencia</td>\n",
       "      <td>201912</td>\n",
       "      <td>799</td>\n",
       "    </tr>\n",
       "    <tr>\n",
       "      <th>15873</th>\n",
       "      <td>92370836565</td>\n",
       "      <td>M</td>\n",
       "      <td>41</td>\n",
       "      <td>92338.20313</td>\n",
       "      <td>Relacion_dependencia</td>\n",
       "      <td>201906</td>\n",
       "      <td>900</td>\n",
       "    </tr>\n",
       "    <tr>\n",
       "      <th>15874</th>\n",
       "      <td>92370836565</td>\n",
       "      <td>M</td>\n",
       "      <td>41</td>\n",
       "      <td>92338.20313</td>\n",
       "      <td>Relacion_dependencia</td>\n",
       "      <td>201909</td>\n",
       "      <td>763</td>\n",
       "    </tr>\n",
       "    <tr>\n",
       "      <th>15875</th>\n",
       "      <td>92370836565</td>\n",
       "      <td>M</td>\n",
       "      <td>41</td>\n",
       "      <td>92338.20313</td>\n",
       "      <td>Relacion_dependencia</td>\n",
       "      <td>201912</td>\n",
       "      <td>900</td>\n",
       "    </tr>\n",
       "  </tbody>\n",
       "</table>\n",
       "<p>14721 rows × 7 columns</p>\n",
       "</div>"
      ],
      "text/plain": [
       "           pers_id sexo  edad      ingreso            situacion_lab  periodo  \\\n",
       "0      71906556521    F    47  35926.28125  Sin_situacion_declarada   201906   \n",
       "2      71906556521    F    47  35926.28125  Sin_situacion_declarada   201909   \n",
       "3      71906556521    F    47  35926.28125  Sin_situacion_declarada   201909   \n",
       "4      71906556521    F    47  35926.28125  Sin_situacion_declarada   201912   \n",
       "12     73861260912    F    41  16231.12207  Sin_situacion_declarada   201906   \n",
       "...            ...  ...   ...          ...                      ...      ...   \n",
       "15871  57646643429    M    33  37955.50781     Relacion_dependencia   201909   \n",
       "15872  57646643429    M    33  37955.50781     Relacion_dependencia   201912   \n",
       "15873  92370836565    M    41  92338.20313     Relacion_dependencia   201906   \n",
       "15874  92370836565    M    41  92338.20313     Relacion_dependencia   201909   \n",
       "15875  92370836565    M    41  92338.20313     Relacion_dependencia   201912   \n",
       "\n",
       "       score  \n",
       "0        919  \n",
       "2        738  \n",
       "3        919  \n",
       "4        919  \n",
       "12       557  \n",
       "...      ...  \n",
       "15871    683  \n",
       "15872    799  \n",
       "15873    900  \n",
       "15874    763  \n",
       "15875    900  \n",
       "\n",
       "[14721 rows x 7 columns]"
      ]
     },
     "execution_count": 278,
     "metadata": {},
     "output_type": "execute_result"
    }
   ],
   "source": [
    "tabla1 = pd.read_csv(\"./datasets/Tabla1_ejercicio.csv\", sep=';')\n",
    "tabla2 = pd.read_csv(\"./datasets/Tabla2_ejercicio.csv\", sep=';')\n",
    "tablas_unidas = pd.merge(tabla1, tabla2, on=\"pers_id\").drop_duplicates()\n",
    "tablas_unidas"
   ]
  },
  {
   "cell_type": "code",
   "execution_count": null,
   "metadata": {},
   "outputs": [
    {
     "data": {
      "text/plain": [
       "(630.26, 772.28)"
      ]
     },
     "execution_count": 279,
     "metadata": {},
     "output_type": "execute_result"
    }
   ],
   "source": [
    "Ret_Pregunta09()"
   ]
  },
  {
   "cell_type": "code",
   "execution_count": null,
   "metadata": {},
   "outputs": [],
   "source": [
    "def Ret_Pregunta10(lista):\n",
    "    '''\n",
    "    Esta función recibe como parámetro un objeto de la clase Lista() definida en el archivo Lista.py.\n",
    "    Debe recorrer la lista y retornan la cantidad de nodos que posee. Utilizar el método de la clase\n",
    "    Lista llamado getCabecera()\n",
    "    Ejemplo:\n",
    "        lis = Lista()\n",
    "        lista.agregarElemento(1)\n",
    "        lista.agregarElemento(2)\n",
    "        lista.agregarElemento(3)\n",
    "        print(Ret_Pregunta10(lista))\n",
    "            3    -> Debe ser el valor devuelto por la función Ret_Pregunta10() en este ejemplo\n",
    "    '''\n",
    "    #Tu código aca:\n",
    "    nodos=0\n",
    "\n",
    "    elemento = lista.getCabecera()\n",
    "\n",
    "    if elemento != None:\n",
    "        nodos = 1\n",
    "    else:\n",
    "        return 0\n",
    "\n",
    "    while elemento.getSiguiente() != None:\n",
    "        elemento = elemento.getSiguiente()\n",
    "        nodos += 1\n",
    "    \n",
    "    return nodos"
   ]
  },
  {
   "cell_type": "code",
   "execution_count": null,
   "metadata": {},
   "outputs": [
    {
     "data": {
      "text/plain": [
       "5"
      ]
     },
     "execution_count": 281,
     "metadata": {},
     "output_type": "execute_result"
    }
   ],
   "source": [
    "import Lista as lis\n",
    "lista = lis.Lista()\n",
    "for i in range(1, 6):\n",
    "    lista.agregarElemento(i)\n",
    "Ret_Pregunta10(lista)"
   ]
  }
 ],
 "metadata": {
  "kernelspec": {
   "display_name": "Python 3",
   "language": "python",
   "name": "python3"
  },
  "language_info": {
   "codemirror_mode": {
    "name": "ipython",
    "version": 3
   },
   "file_extension": ".py",
   "mimetype": "text/x-python",
   "name": "python",
   "nbconvert_exporter": "python",
   "pygments_lexer": "ipython3",
   "version": "3.10.1"
  },
  "orig_nbformat": 4,
  "vscode": {
   "interpreter": {
    "hash": "dde125affa51238aa7fe2b45bb5903404e075b970f453e9f914c922b9fc7c42a"
   }
  }
 },
 "nbformat": 4,
 "nbformat_minor": 2
}
