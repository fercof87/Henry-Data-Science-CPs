{
 "cells": [
  {
   "cell_type": "code",
   "execution_count": 49,
   "metadata": {},
   "outputs": [],
   "source": [
    "def Ret_Pregunta02(precio_min, precio_max):\n",
    "    '''\n",
    "    Debes utilizar Pandas para ingestar en un objeto Dataframe el contenido del archivo provisto \n",
    "    \"GGAL - Cotizaciones historicas.csv\". Este csv contiene información de cotización de la \n",
    "    acción del Banco Galciia SA.\n",
    "    Esta función toma como argumentos un precio mínimo y un precio máximo cualquiera sea y\n",
    "    devuelve el promedio correspondiente a la columna \"cierre\" del conjunto resultante\n",
    "    entre [precio_min, precio_max] filtrando por la columna \"apertura\", con 2 decimales después del punto.\n",
    "    PISTA: usar una máscara sobre la columna \"apertura\" y después hacer los cálculos\n",
    "     sobre la columna \"cierre\"\n",
    "    '''\n",
    "    #Tu código aca:\n",
    "    df=pd.read_csv(\"datasets\\GGAL - Cotizaciones historicas.csv\")\n",
    "    (precio_max+precio_min)/2\n",
    "    return"
   ]
  },
  {
   "cell_type": "code",
   "execution_count": 50,
   "metadata": {},
   "outputs": [
    {
     "ename": "TypeError",
     "evalue": "Ret_Pregunta02() missing 2 required positional arguments: 'precio_min' and 'precio_max'",
     "output_type": "error",
     "traceback": [
      "\u001b[1;31m---------------------------------------------------------------------------\u001b[0m",
      "\u001b[1;31mTypeError\u001b[0m                                 Traceback (most recent call last)",
      "\u001b[1;32mc:\\Users\\Hiros\\OneDrive\\Henry\\Modulo 1\\CheckPoint\\CP-M1_04_01\\practicando codigo.ipynb Cell 2\u001b[0m in \u001b[0;36m<cell line: 1>\u001b[1;34m()\u001b[0m\n\u001b[1;32m----> <a href='vscode-notebook-cell:/c%3A/Users/Hiros/OneDrive/Henry/Modulo%201/CheckPoint/CP-M1_04_01/practicando%20codigo.ipynb#W1sZmlsZQ%3D%3D?line=0'>1</a>\u001b[0m Ret_Pregunta02()\n",
      "\u001b[1;31mTypeError\u001b[0m: Ret_Pregunta02() missing 2 required positional arguments: 'precio_min' and 'precio_max'"
     ]
    }
   ],
   "source": [
    "Ret_Pregunta02()"
   ]
  },
  {
   "cell_type": "code",
   "execution_count": 2,
   "metadata": {},
   "outputs": [],
   "source": [
    "import numpy as np\n",
    "import pandas as pd"
   ]
  },
  {
   "cell_type": "code",
   "execution_count": 48,
   "metadata": {},
   "outputs": [
    {
     "data": {
      "text/html": [
       "<div>\n",
       "<style scoped>\n",
       "    .dataframe tbody tr th:only-of-type {\n",
       "        vertical-align: middle;\n",
       "    }\n",
       "\n",
       "    .dataframe tbody tr th {\n",
       "        vertical-align: top;\n",
       "    }\n",
       "\n",
       "    .dataframe thead th {\n",
       "        text-align: right;\n",
       "    }\n",
       "</style>\n",
       "<table border=\"1\" class=\"dataframe\">\n",
       "  <thead>\n",
       "    <tr style=\"text-align: right;\">\n",
       "      <th></th>\n",
       "      <th>especie</th>\n",
       "      <th>fecha</th>\n",
       "      <th>apertura</th>\n",
       "      <th>maximo</th>\n",
       "      <th>minimo</th>\n",
       "      <th>cierre</th>\n",
       "      <th>volumen</th>\n",
       "      <th>timestamp</th>\n",
       "    </tr>\n",
       "  </thead>\n",
       "  <tbody>\n",
       "    <tr>\n",
       "      <th>0</th>\n",
       "      <td>GGAL</td>\n",
       "      <td>02/01/1991</td>\n",
       "      <td>0.02338</td>\n",
       "      <td>0.02338</td>\n",
       "      <td>0.02313</td>\n",
       "      <td>0.02338</td>\n",
       "      <td>0</td>\n",
       "      <td>662781600</td>\n",
       "    </tr>\n",
       "    <tr>\n",
       "      <th>1</th>\n",
       "      <td>GGAL</td>\n",
       "      <td>03/01/1991</td>\n",
       "      <td>0.02289</td>\n",
       "      <td>0.02289</td>\n",
       "      <td>0.02251</td>\n",
       "      <td>0.02289</td>\n",
       "      <td>0</td>\n",
       "      <td>662868000</td>\n",
       "    </tr>\n",
       "    <tr>\n",
       "      <th>2</th>\n",
       "      <td>GGAL</td>\n",
       "      <td>04/01/1991</td>\n",
       "      <td>0.02251</td>\n",
       "      <td>0.02289</td>\n",
       "      <td>0.02251</td>\n",
       "      <td>0.02251</td>\n",
       "      <td>0</td>\n",
       "      <td>662954400</td>\n",
       "    </tr>\n",
       "    <tr>\n",
       "      <th>3</th>\n",
       "      <td>GGAL</td>\n",
       "      <td>07/01/1991</td>\n",
       "      <td>0.02202</td>\n",
       "      <td>0.02202</td>\n",
       "      <td>0.02202</td>\n",
       "      <td>0.02202</td>\n",
       "      <td>0</td>\n",
       "      <td>663213600</td>\n",
       "    </tr>\n",
       "    <tr>\n",
       "      <th>4</th>\n",
       "      <td>GGAL</td>\n",
       "      <td>08/01/1991</td>\n",
       "      <td>0.02128</td>\n",
       "      <td>0.02177</td>\n",
       "      <td>0.02128</td>\n",
       "      <td>0.02128</td>\n",
       "      <td>0</td>\n",
       "      <td>663300000</td>\n",
       "    </tr>\n",
       "  </tbody>\n",
       "</table>\n",
       "</div>"
      ],
      "text/plain": [
       "  especie       fecha  apertura   maximo   minimo   cierre  volumen  timestamp\n",
       "0    GGAL  02/01/1991   0.02338  0.02338  0.02313  0.02338        0  662781600\n",
       "1    GGAL  03/01/1991   0.02289  0.02289  0.02251  0.02289        0  662868000\n",
       "2    GGAL  04/01/1991   0.02251  0.02289  0.02251  0.02251        0  662954400\n",
       "3    GGAL  07/01/1991   0.02202  0.02202  0.02202  0.02202        0  663213600\n",
       "4    GGAL  08/01/1991   0.02128  0.02177  0.02128  0.02128        0  663300000"
      ]
     },
     "execution_count": 48,
     "metadata": {},
     "output_type": "execute_result"
    }
   ],
   "source": [
    "df=pd.read_csv(\"datasets\\GGAL - Cotizaciones historicas.csv\")\n",
    "df.head()"
   ]
  }
 ],
 "metadata": {
  "kernelspec": {
   "display_name": "Python 3.9.13 64-bit (microsoft store)",
   "language": "python",
   "name": "python3"
  },
  "language_info": {
   "codemirror_mode": {
    "name": "ipython",
    "version": 3
   },
   "file_extension": ".py",
   "mimetype": "text/x-python",
   "name": "python",
   "nbconvert_exporter": "python",
   "pygments_lexer": "ipython3",
   "version": "3.9.13"
  },
  "orig_nbformat": 4,
  "vscode": {
   "interpreter": {
    "hash": "ce6797e6b52a873d1a784aaad38e393e2d26aa22f7ad7fdba9e6cf2b31e4da34"
   }
  }
 },
 "nbformat": 4,
 "nbformat_minor": 2
}
