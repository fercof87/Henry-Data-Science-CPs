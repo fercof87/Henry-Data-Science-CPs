{
 "cells": [
  {
   "cell_type": "code",
   "execution_count": 19,
   "metadata": {},
   "outputs": [
    {
     "data": {
      "text/plain": [
       "93087.62"
      ]
     },
     "execution_count": 19,
     "metadata": {},
     "output_type": "execute_result"
    }
   ],
   "source": [
    "# código dentro de las funciones ya definidas.\n",
    "from xml.dom.minidom import Entity\n",
    "import pandas as pd\n",
    "import numpy as np\n",
    "\n",
    "# 1\n",
    "# valor_esperado = 202185.8933 OK\n",
    "# cotizaciones = pd.read_csv(\"datasets\\GGAL - Cotizaciones historicas.csv\")\n",
    "# cotizaciones.maximo.sum().round(4)\n",
    "\n",
    "\n",
    "# 2\n",
    "# precio_min = 30\n",
    "# precio_max = 200\n",
    "# valor_esperado = 214.53 MAL! PERO BIEN RESUELTO\n",
    "\n",
    "# cotizaciones = pd.read_csv(\"datasets\\GGAL - Cotizaciones historicas.csv\")\n",
    "# cotizaciones[np.logical_and(cotizaciones.apertura > precio_min, cotizaciones.apertura < precio_max)].cierre.mean().round(2)\n",
    "\n",
    "# 3\n",
    "# valor_esperado = 55 OK\n",
    "# consumo = pd.read_csv(\"datasets\\Fuentes_Consumo_Energia.csv\")\n",
    "# consumo.Year.dropna().nunique()\n",
    "\n",
    "# 4\n",
    "# valor_esperado = 55 NO OK PERO BIEN RESUELTO\n",
    "# consumo = pd.read_csv(\"datasets\\Fuentes_Consumo_Energia.csv\")\n",
    "# consumo.shape[0]\n",
    "\n",
    "# 5\n",
    "# valor_esperado = 263.9 OK\n",
    "# cotizaciones = pd.read_csv(\"datasets\\GGAL - Cotizaciones historicas.csv\")\n",
    "# cotizaciones[\"variacion\"] = cotizaciones.maximo - cotizaciones.maximo[0]\n",
    "# cotizaciones.variacion.max().round(1)\n",
    "\n",
    "# 7\n",
    "# consumo = pd.read_csv(\"datasets\\Fuentes_Consumo_Energia.csv\")\n",
    "# lista = [\"Argentina\", \"Germany\", \"Chile\", \"Colombia\", \"Ecuador\", \"Mexico\", \"Peru\"]\n",
    "\n",
    "# consumo.Entity[consumo[consumo.Entity.isin(lista)].Hydro_Generation_TWh.idxmax()]\n",
    "\n",
    "# 9 93087.62\n",
    "consumo = pd.read_csv(\"datasets\\Fuentes_Consumo_Energia.csv\")\n",
    "consumo.groupby(\"Entity\")[\"Nuclear_Generation_TWh\"].sum().max().round(2)\n",
    "\n",
    "# energ = pd.read_csv(\"datasets\\Fuentes_Consumo_Energia.csv\")\n",
    "# nuclear = []\n",
    "# for i in energ.Entity.unique():\n",
    "#      nuclear.append(energ.Nuclear_Generation_TWh[energ.Entity == i].sum())\n",
    "# round(max(nuclear),2)"
   ]
  }
 ],
 "metadata": {
  "kernelspec": {
   "display_name": "Python 3",
   "language": "python",
   "name": "python3"
  },
  "language_info": {
   "codemirror_mode": {
    "name": "ipython",
    "version": 3
   },
   "file_extension": ".py",
   "mimetype": "text/x-python",
   "name": "python",
   "nbconvert_exporter": "python",
   "pygments_lexer": "ipython3",
   "version": "3.11.3"
  },
  "orig_nbformat": 4
 },
 "nbformat": 4,
 "nbformat_minor": 2
}
