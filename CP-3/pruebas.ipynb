{
 "cells": [
  {
   "cell_type": "code",
   "execution_count": 91,
   "metadata": {},
   "outputs": [
    {
     "name": "stdout",
     "output_type": "stream",
     "text": [
      "(15876, 7)\n",
      "(15876, 7)\n"
     ]
    }
   ],
   "source": [
    "import pandas as pd\n",
    "import numpy as np\n",
    "\n",
    "\n",
    "df1 = pd.read_csv(\"datasets/Tabla1_ejercicio.csv\", sep=\";\")\n",
    "df2 = pd.read_csv(\"datasets/Tabla2_ejercicio.csv\", sep=\";\")\n",
    "df3 = pd.merge(df1, df2, on=\"pers_id\", how=\"inner\")\n",
    "print(df3.shape)\n",
    "df3.drop_duplicates()\n",
    "df3.dropna()\n",
    "print(df3.shape)\n",
    "# round(df3[df3[\"sexo\"] == \"F\"][\"score\"].mean(),2)\n"
   ]
  }
 ],
 "metadata": {
  "kernelspec": {
   "display_name": "Python 3",
   "language": "python",
   "name": "python3"
  },
  "language_info": {
   "codemirror_mode": {
    "name": "ipython",
    "version": 3
   },
   "file_extension": ".py",
   "mimetype": "text/x-python",
   "name": "python",
   "nbconvert_exporter": "python",
   "pygments_lexer": "ipython3",
   "version": "3.11.3"
  },
  "orig_nbformat": 4
 },
 "nbformat": 4,
 "nbformat_minor": 2
}
